{
  "metadata": {
    "kernelspec": {
      "name": "xpython",
      "display_name": "Python 3.13 (XPython)",
      "language": "python"
    },
    "language_info": {
      "file_extension": ".py",
      "mimetype": "text/x-python",
      "name": "python",
      "version": "3.13.1"
    }
  },
  "nbformat_minor": 5,
  "nbformat": 4,
  "cells": [
    {
      "id": "84fef7f6-f06c-4c1c-9b87-1fe5e2ecfe28",
      "cell_type": "code",
      "source": "Stock Price Prediction using Machine Learning\n\nProblem Statement:\nThe goal is to predict the next day's closing stock price for a given stock (AAPL) using historical stock data and machine learning models.\n\nObjectives:\n- Use `yfinance` to collect stock data.\n- Preprocess the data and generate features.\n- Train and evaluate Linear Regression and Random Forest models.\n- Visualize predictions.\n- Predict the next closing price based on the latest market data.\n",
      "metadata": {
        "trusted": true
      },
      "outputs": [],
      "execution_count": null
    },
    {
      "id": "bd47a2b6-0113-4aa5-80d9-71c462502d5d",
      "cell_type": "code",
      "source": "import yfinance as yf\nimport pandas as pd\nimport numpy as np\n\nstock_symbol = \"AAPL\"\nstart_date = \"2020-01-01\"\nend_date = \"2023-12-31\"\nprint(\"Downloading stock data...\")\ndata = yf.download(stock_symbol, start=start_date, end=end_date)\n\n# Create next-day target variable\ndata['Next Close'] = data['Close'].shift(-1)\ndata = data.dropna()\n\n# Select features and target\nfeatures = ['Open', 'High', 'Low', 'Volume']\nX = data[features]\ny = data['Next Close']\n\n# Split into train and test sets\nfrom sklearn.model_selection import train_test_split\nX_train, X_test, y_train, y_test = train_test_split(X, y, test_size=0.2, shuffle=False)\n",
      "metadata": {
        "trusted": true
      },
      "outputs": [],
      "execution_count": null
    },
    {
      "id": "c9102c4b-a64e-42ea-a87a-42e987894c23",
      "cell_type": "code",
      "source": "import matplotlib.pyplot as plt\n\n# Visualize the Closing Price\nplt.figure(figsize=(12, 6))\nplt.plot(data.index, data['Close'], label='Closing Price')\nplt.title('AAPL Closing Price (2020-2023)')\nplt.xlabel('Date')\nplt.ylabel('Price ($)')\nplt.grid(True)\nplt.legend()\nplt.show()\n\n# Show first few rows\ndata.head()\n",
      "metadata": {
        "trusted": true
      },
      "outputs": [],
      "execution_count": null
    },
    {
      "id": "928fb816-cba1-4f9c-aaa6-2b69b9d323c7",
      "cell_type": "code",
      "source": "from sklearn.linear_model import LinearRegression\nfrom sklearn.ensemble import RandomForestRegressor\nfrom sklearn.metrics import mean_squared_error\n\n# Linear Regression\nprint(\"Training Linear Regression model...\")\nlr_model = LinearRegression()\nlr_model.fit(X_train, y_train)\nlr_pred = lr_model.predict(X_test)\nlr_rmse = np.sqrt(mean_squared_error(y_test, lr_pred))\nlr_r2 = lr_model.score(X_test, y_test)\n\n# Random Forest\nprint(\"Training Random Forest model...\")\nrf_model = RandomForestRegressor(n_estimators=100, random_state=42)\nrf_model.fit(X_train, y_train)\nrf_pred = rf_model.predict(X_test)\nrf_rmse = np.sqrt(mean_squared_error(y_test, rf_pred))\nrf_r2 = rf_model.score(X_test, y_test)\n\n# Comparison Table\nprint(\"\\nModel Performance Comparison:\")\nprint(f\"{'Metric':<15} {'Linear Regression':<20} {'Random Forest':<20}\")\nprint(f\"{'RMSE':<15} {lr_rmse:<20.2f} {rf_rmse:<20.2f}\")\nprint(f\"{'R-squared':<15} {lr_r2:<20.4f} {rf_r2:<20.4f}\")\n",
      "metadata": {
        "trusted": true
      },
      "outputs": [],
      "execution_count": null
    },
    {
      "id": "6cbd3f30-47f1-49b4-9f5d-d300dfc6eb1e",
      "cell_type": "code",
      "source": "# Linear Regression Plot\nplt.figure(figsize=(12, 6))\nplt.title('Linear Regression Predictions')\nplt.plot(y_test.index, y_test, label='Actual Price', color='blue')\nplt.plot(y_test.index, lr_pred, label='Predicted', color='orange')\nplt.xlabel('Date')\nplt.ylabel('Price ($)')\nplt.legend()\nplt.grid(True)\nplt.show()\n\n# Random Forest Plot\nplt.figure(figsize=(12, 6))\nplt.title('Random Forest Predictions')\nplt.plot(y_test.index, y_test, label='Actual Price', color='blue')\nplt.plot(y_test.index, rf_pred, label='Predicted', color='green')\nplt.xlabel('Date')\nplt.ylabel('Price ($)')\nplt.legend()\nplt.grid(True)\nplt.show()\n",
      "metadata": {
        "trusted": true
      },
      "outputs": [],
      "execution_count": null
    },
    {
      "id": "26ace07f-f507-40c6-bcf2-a186a151272c",
      "cell_type": "code",
      "source": "# Feature Importance\nrf_importance = pd.DataFrame({\n    'Feature': features,\n    'Importance': rf_model.feature_importances_\n}).sort_values('Importance', ascending=False)\n\nprint(\"\\nRandom Forest Feature Importance:\")\nrf_importance\n",
      "metadata": {
        "trusted": true
      },
      "outputs": [],
      "execution_count": null
    },
    {
      "id": "d25cb4d0-ea2a-409f-aa0e-da245aa2d434",
      "cell_type": "code",
      "source": "print(\"\\nFetching latest market data for prediction...\")\nlatest_data = yf.download(stock_symbol, period='5d')\n\nif not latest_data.empty:\n    latest_day = latest_data.iloc[-1]\n    prediction_input = pd.DataFrame({\n        'Open': [latest_day['Open']],\n        'High': [latest_day['High']],\n        'Low': [latest_day['Low']],\n        'Volume': [latest_day['Volume']]\n    })\n    \n    next_day_pred = rf_model.predict(prediction_input)\n    current_close = float(latest_day['Close'])\n    \n    print(\"\\nNext Trading Day Prediction:\")\n    print(f\"Current Close: ${current_close:.2f}\")\n    print(f\"Predicted Next Close: ${next_day_pred[0]:.2f}\")\n    \n    # Bar Plot\n    plt.figure(figsize=(8, 5))\n    plt.bar(['Current Close', 'Predicted Next Close'], \n            [current_close, next_day_pred[0]],\n            color=['blue', 'green'])\n    plt.title('Current vs Predicted Closing Price')\n    plt.ylabel('Price ($)')\n    plt.grid(axis='y')\n    plt.show()\nelse:\n    print(\"Could not fetch latest market data.\")\n",
      "metadata": {
        "trusted": true
      },
      "outputs": [],
      "execution_count": null
    },
    {
      "id": "e27985a7-668c-4a48-972d-96b39db310a9",
      "cell_type": "code",
      "source": "# Export dataset as CSV\ndata.to_csv('stock_data.csv')\n\n# Only for Google Colab users\ntry:\n    from google.colab import files\n    print(\"\\nDownloading stock_data.csv...\")\n    files.download('stock_data.csv')\nexcept:\n    print(\"Not running in Colab. File saved locally.\")\n",
      "metadata": {
        "trusted": true
      },
      "outputs": [],
      "execution_count": null
    }
  ]
}